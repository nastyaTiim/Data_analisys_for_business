{
  "cells": [
    {
      "cell_type": "markdown",
      "source": [
        "<h1>Проект по курсу \"Анализ данных в бизнесе\"</h1>\n",
        "\n",
        "<h2>Тема: <b>\"Автоматизация работы с документами: извлечение сущностей и фактов из сообщений о раскрытии\"</b></h1>\n",
        "\n",
        "<h4>Выполнили: Митченко Анастасия, Неминская Софья, Уали Акжан</h4>\n",
        "<h4 >Руководитель: Дудников Константин</h4>"
      ],
      "metadata": {
        "id": "TIt2KyY8CC06"
      }
    },
    {
      "cell_type": "markdown",
      "metadata": {
        "id": "NM3Jqyp68NHk"
      },
      "source": [
        "####Извлечение решения из страниц html"
      ]
    },
    {
      "cell_type": "code",
      "execution_count": null,
      "metadata": {
        "id": "v9FhLAaTvhnz"
      },
      "outputs": [],
      "source": [
        "import requests\n",
        "from bs4 import BeautifulSoup\n",
        "import pandas as pd\n",
        "import glob\n",
        "import io\n",
        "import re"
      ]
    },
    {
      "cell_type": "code",
      "execution_count": null,
      "metadata": {
        "id": "65M3OtFsvhn1"
      },
      "outputs": [],
      "source": [
        "data = []\n",
        "files = []\n",
        "for filename in glob.glob(\"htmls/*.html\"):\n",
        "    with io.open(filename, encoding='utf-8') as htmlfile:\n",
        "        html = htmlfile.read()\n",
        "        soup = BeautifulSoup(html, 'html.parser')\n",
        "        files += [soup]\n",
        "        content = soup.find(\"div\", {\"id\": \"cont_wrap\"})\n",
        "        if content:\n",
        "            content = content.text.rstrip()\n",
        "        content = re.sub(r'\\n', ' ', content)\n",
        "        content = re.sub(r'\\t', ' ', content)\n",
        "        content = re.sub(r'\\xa0', ' ', content)\n",
        "        data.append(\" \".join(content.split()))"
      ]
    },
    {
      "cell_type": "markdown",
      "metadata": {
        "id": "HDyov-UGPtoP"
      },
      "source": [
        "####Полное наименование эмитента"
      ]
    },
    {
      "cell_type": "code",
      "execution_count": null,
      "metadata": {
        "id": "cNac1oPY8AtX"
      },
      "outputs": [],
      "source": [
        "full_names = []\n",
        "for html in data:\n",
        "    full_name = re.findall(r'(?<=Полное фирменное наименование эмитента \\(для некоммерческой организации [–—-] наименование\\): )(.+?) 1\\.2\\.', html)\n",
        "    if len(full_name) == 0:\n",
        "        full_name = re.findall(r'(?<=Полное фирменное наименование эмитента: )(.+?) 1\\.2\\.', html)\n",
        "        if len(full_name) == 0:\n",
        "            full_name = re.findall(r'(?<=Полное фирменное наименование эмитента \\(для некоммерческой организации наименование\\): )(.+?) 1\\.2\\.', html)\n",
        "            if len(full_name) == 0:\n",
        "                full_name = re.findall(r'(?<=Полное фирменное наименование эмитента \\(для некоммерческой организации [—–] наименование\\) )(.+?) 1\\.2\\.', html)\n",
        "                if len(full_name) == 0:\n",
        "                    full_name = re.findall(r'(?<=Полное фирменное наименование эмитента )(.+?) 1\\.2\\.', html)\n",
        "                    if len(full_name) == 0:\n",
        "                        full_names.append(False)\n",
        "                        continue\n",
        "    full_names.append(full_name[0])"
      ]
    },
    {
      "cell_type": "markdown",
      "metadata": {
        "id": "942whquO08nA"
      },
      "source": [
        "####Сокращенное наименование эмитента"
      ]
    },
    {
      "cell_type": "code",
      "execution_count": null,
      "metadata": {
        "id": "S2FtZdZs1AMQ"
      },
      "outputs": [],
      "source": [
        "names = []\n",
        "for html in data:\n",
        "   name = re.findall('(?<=Сокращенное фирменное наименование эмитента )\\w+\\s\\“\\w+?\\s?\\“\\w+?\\b\\”|(?<=Сокращенное фирменное наименование эмитента )\\w+\\s\\\"\\w+\\\"|(?<=Сокращенное фирменное наименование эмитента )\\w+\\s«?\\w+?\\s?«?\\w+?\\s?\\w+?\\»|(?<=Сокращенное фирменное наименование эмитента )\\w+\\s«?\\w+?\\s?\\w+?\\s?«?\\w+?\\S?\\s?\\w+?\\»|(?<=Сокращенное фирменное наименование эмитента )\\w+\\s\\S?\\w+\\S?|(?<=Сокращенное фирменное наименование эмитента: )\\w+\\s?\\\"?\\s?\\w+?\\s?\\w+?\\s?\\S?\\s?\\\"?\\w+?\\S?\\s?\\w+?\\S?\\s?\\\"?\\s?\\w+?\\s?\\w+?\\\"|(?<=Сокращенное фирменное наименование эмитента..)\\w+\\s«?\\w+?\\S?\\s?\\w+?\\s?«?\\S?\\w*?\\s?\\»?\\w+?»|(?<=Сокращенное фирменное наименование эмитента )\\w+\\s?\\w+?\\s?\\\"?\\w+?\\s?\\w+?\\S?\\s?\\w+?\\S?\\s?\\w+?\\S?\\w+?\\\"|(?<=Сокращенное фирменное наименование эмитента )\\w+\\s«?\\w+?\\s?\\w+?\\S?\\s?\\w+?\\S?\\s?\\w+?\\»|(?<=Сокращенное фирменное наименование эмитента: )\\w+\\s\\\"\\w+?\\s?\\S?\\s?\\w*?\\S?\\w+?\\\"|(?<=Сокращенное фирменное наименование эмитента: )\\w+\\s\\w+\\s?\\w+?\\b|(?<=Сокращенное фирменное наименование эмитента )\\w+\\s?\\“\\w+?\\S?\\s?\\“?\\w+?\\s?\\w+?\\”|(?<=Сокращенное фирменное наименование эмитента )\\w+\\s?\\\"?\\w+?\\\"?|(?<=Сокращенное фирменное наименование эмитента: )\\w+\\s\\S?\\w+\\S?|(?<=Сокращенное фирменное наименование эмитента: )\\\"\\w+?\\s?\\S?\\s?\\w*?\\\"\\s.\\w+.', html)\n",
        "   if len(name) > 0:\n",
        "       names.append(name[0])\n",
        "   else:\n",
        "       names.append(False)"
      ]
    },
    {
      "cell_type": "markdown",
      "metadata": {
        "id": "VTAZm5ODPya7"
      },
      "source": [
        "####Адрес эмитента"
      ]
    },
    {
      "cell_type": "code",
      "execution_count": null,
      "metadata": {
        "id": "Zrus_CcOPxt9"
      },
      "outputs": [],
      "source": [
        "addresses = []\n",
        "for html in data:\n",
        "    address = re.findall(r'(?<=Место нахождения эмитента: )(.+?) 1\\.4\\.', html)\n",
        "    if len(address) == 0:\n",
        "        address = re.findall(r'(?<=Место нахождения эмитента )(.+?) 1\\.4\\.', html)\n",
        "        if len(address) == 0:\n",
        "            address = re.findall(r'(?<=Место нахождения: )(.+?) 1\\.4\\.', html)\n",
        "            if len(address) == 0:\n",
        "                addresses.append(False)\n",
        "                continue\n",
        "    addresses.append(address[0])"
      ]
    },
    {
      "cell_type": "markdown",
      "metadata": {
        "id": "w-u0i1W88vpa"
      },
      "source": [
        "####ИНН эмитента"
      ]
    },
    {
      "cell_type": "code",
      "execution_count": null,
      "metadata": {
        "id": "8vY38n1rvhn3"
      },
      "outputs": [],
      "source": [
        "innPattern = re.compile(r'(?<=инн эмитента: )\\d{10}\\b|(?<=инн эмитента )\\d{10}\\b|(?<=инн эмитента [-\\–] )\\d{10}\\b')"
      ]
    },
    {
      "cell_type": "code",
      "execution_count": null,
      "metadata": {
        "id": "OxLCo8w_vhn4"
      },
      "outputs": [],
      "source": [
        "inns = []\n",
        "for html in data:\n",
        "    inn = re.search(innPattern, html.lower())\n",
        "    if inn:\n",
        "        inns.append(inn[0])\n",
        "    else:\n",
        "        inns.append(False)"
      ]
    },
    {
      "cell_type": "markdown",
      "metadata": {
        "id": "FMCq95H58xy7"
      },
      "source": [
        "####ОГРН эмитента"
      ]
    },
    {
      "cell_type": "code",
      "execution_count": null,
      "metadata": {
        "id": "H9ouF3hp8zPS"
      },
      "outputs": [],
      "source": [
        "ogrnPattern = re.compile(r'(?<=огрн эмитента: )\\d{13}\\b|(?<=огрн эмитента )\\d{13}\\b|(?<=огрн эмитента [-\\–] )\\d{13}\\b')"
      ]
    },
    {
      "cell_type": "code",
      "execution_count": null,
      "metadata": {
        "id": "fKA9DT1t802I"
      },
      "outputs": [],
      "source": [
        "ogrns = []\n",
        "for html in data:\n",
        "    ogrn = re.search(ogrnPattern, html.lower())\n",
        "    if ogrn:\n",
        "        ogrns.append(ogrn[0])\n",
        "    else:\n",
        "        ogrns.append(False)"
      ]
    },
    {
      "cell_type": "markdown",
      "metadata": {
        "id": "NEIcGRqQjYBc"
      },
      "source": [
        "####Дата собрания"
      ]
    },
    {
      "cell_type": "code",
      "execution_count": null,
      "metadata": {
        "scrolled": false,
        "id": "R3F3YgRbjYBd"
      },
      "outputs": [],
      "source": [
        "dates = []\n",
        "for html in data:\n",
        "    raw_date = re.findall(r'(?<=проведения ).+?20\\d{2}', html.lower())\n",
        "    if len(raw_date) == 0: # если не указана дата проведения собрания, то возьмем дату наступления события\n",
        "        date = re.findall(r'(?<=Дата наступления события \\(существенного факта\\), о котором составлено сообщение \\(если применимо\\): ).+?20\\d{2}', html)\n",
        "        dates.append(date[0])\n",
        "    else:\n",
        "        date = re.findall(r'\\d{2}.\\d{2}.\\d{4}|\\d{2} [a-я]+? \\d{4}|«\\d{2}» [a-я]+? \\d{4}|\\d{2}[a-я]+? \\d{4}|\\d{1} [a-я]+? \\d{4}', raw_date[0])\n",
        "        if len(date) == 0:\n",
        "            dates.append(False)\n",
        "        else:\n",
        "            dates.append(date[0])"
      ]
    },
    {
      "cell_type": "markdown",
      "metadata": {
        "id": "QegxBDeSplqr"
      },
      "source": [
        "####Форма собрания"
      ]
    },
    {
      "cell_type": "code",
      "execution_count": null,
      "metadata": {
        "id": "CYy3AUU0po62"
      },
      "outputs": [],
      "source": [
        "forms = []\n",
        "for html in data:\n",
        "    html = html.lower()\n",
        "    form = re.findall(r'(?<=форма проведения общего собрания)[0-9а-яА-ЯёЁ\\(\\)\\«\\»\\.\\\"\\s\\–\\–\\-]+?:([а-яА-Я\\s,]+)\\.? дата', html)\n",
        "    if len(form) == 0:\n",
        "      form = re.findall(r'(?<=форма проведения общего собрания)[0-9а-яА-ЯёЁ\\(\\)\\«\\»\\.\\\"\\s\\–\\–\\-]+?:([а-яА-Я\\s,]+)\\.? адрес', html)\n",
        "      if len(form) == 0:\n",
        "        form = re.findall(r'(?<=форма проведения общего собрания)[0-9а-яА-ЯёЁ\\(\\)\\«\\»\\.\\\"\\s\\–\\–\\-]+?[–-]([а-яА-Я\\s,]+)\\.?', html)\n",
        "        if len(form) == 0:\n",
        "          form = re.findall(r'(?<=форма проведения общего собрания)[а-яА-ЯёЁ\\(\\)\\«\\»\\.\\\"\\s\\–\\–\\-]+?:([а-яА-Я\\s,]+)\\.?', html)\n",
        "          if len(form) == 0:\n",
        "            form = re.findall(r'(?<=форма проведения общего собрания):([а-яА-Я\\s,]+) дата', html)\n",
        "            if len(form) == 0:\n",
        "              form = re.findall(r'(?<=форма проведения внеочередного общего собрания)[0-9а-яА-ЯёЁ\\(\\)\\«\\»\\.\\\"\\s\\–\\–\\-]+?[:-]([а-яА-Я\\s,]+)\\.?', html)\n",
        "              if len(form) == 0:\n",
        "                form = re.findall(r'(?<=форма проведения общего собрания):([а-яА-Я\\s,]+).+? дата', html)\n",
        "                if len(form) == 0:\n",
        "                  form = re.findall(r'(?<=форма проведения общего собрания):([а-яА-Я\\s,]+).+?2\\.', html)\n",
        "                  if len(form) == 0:\n",
        "                    form = re.findall(r'(?<=форма проведения)\\s?собрания?:([а-яА-Я\\s,]+)\\.? дата?', html)\n",
        "                    if len(form) == 0:\n",
        "                      form = re.findall(r'(?<=форма проведения общего собрания акционеров эмитента)([а-яА-Я\\s,]+)', html)\n",
        "                      if len(form) == 0:\n",
        "                        form = re.findall(r'(?<=форма проведения общего собрания)[а-я\\(\\)\\.;\\s]+?;?([а-яА-Я\\s,]+) дата?', html)\n",
        "                        if len(form) == 0:\n",
        "                          form = re.findall(r'(?<=форма проведения общего собрания)\\.?([а-яА-Я\\s,]+)', html)\n",
        "                          if len(form) == 0: \n",
        "                            form = re.findall(r'(?<=форма проведения внеочередного общего собрания):([а-яА-Я\\s,]+)\\.?', html)\n",
        "                            if len(form) == 0:\n",
        "                              form = re.findall(r'(?<=форма проведения годового общего собрания акционеров):([а-яА-Я\\s,]+)\\.?', html)\n",
        "                              if len(form) == 0:\n",
        "                                form = re.findall(r'(?<=форма проведения):([а-яА-Я\\s,]+)\\.?\\s?дата?', html)\n",
        "                                if len(form) == 0:\n",
        "                                  form = re.findall(r'(?<=форма проведения собрания):([а-яА-Я\\s,]+)\\.? 2?', html)\n",
        "                                  if len(form) == 0:\n",
        "                                    form = re.findall(r'(?<=форма проведения собрания акционеров эмитента):([а-яА-Я\\s,]+)', html)\n",
        "                                    if len(form) == 0:\n",
        "                                      form = re.findall(r'(?<=форма проведения внеочередного общего собрания акционеров )–([а-яА-Я\\s,\\(\\)]+)..2\\.', html)\n",
        "                                      if len(form) == 0:    \n",
        "                                        form = re.findall(r'(?<=форма проведения собрания)[0-9а-яА-ЯёЁ\\(\\)\\«\\»\\.\\\"\\s\\–\\–\\-]+?:([а-яА-Я\\s,]+)\\.', html)\n",
        "                                        if len(form) == 0:\n",
        "                                          forms.append(False)\n",
        "                                          continue\n",
        "    forms.append(form[0].strip())"
      ]
    },
    {
      "cell_type": "code",
      "source": [
        ""
      ],
      "metadata": {
        "id": "dy7O4C1nToGs"
      },
      "execution_count": null,
      "outputs": []
    },
    {
      "cell_type": "markdown",
      "source": [
        "####Тип отчетности, которую поручено проверять аудитору"
      ],
      "metadata": {
        "id": "AHNbSNJLQxja"
      }
    },
    {
      "cell_type": "code",
      "source": [
        "doc_types = []\n",
        "for html in data:\n",
        "    html = html.lower()\n",
        "    doc_type = re.findall(r'(?<=проверк)[уие] (.{1,40}?отчетности)', html)\n",
        "    if len(doc_type) == 0:\n",
        "      doc_type = re.findall(r'(?<=аудит)[ау] (.{1,40} отчетности)', html)\n",
        "      if len(doc_type) == 0:\n",
        "        doc_type = re.findall(r'(?<=проверк)[уие] (.{1,40}?деятельности)', html)\n",
        "        if len(doc_type) == 0:\n",
        "          doc_type = re.findall(r'(?<=проверк)[уие] (деятельности.{1,10}?) ', html)\n",
        "          if len(doc_type) == 0:\n",
        "                                          doc_types.append('Не указано')\n",
        "                                          i +=1\n",
        "                                          continue\n",
        "    doc_types.append(doc_type[0].strip())"
      ],
      "metadata": {
        "id": "CPoKHltFQ_5n"
      },
      "execution_count": null,
      "outputs": []
    },
    {
      "cell_type": "markdown",
      "source": [
        "####Наименование аудитора"
      ],
      "metadata": {
        "id": "cOL4QMz3njT4"
      }
    },
    {
      "cell_type": "code",
      "source": [
        "audit_names = []\n",
        "i = 0\n",
        "k = 0\n",
        "for html in data:\n",
        "    html = html.lower()\n",
        "    audit_name = re.findall(r'(?<=утвердить аудитором общества )-([а-яё \\\"«»-]{1,35})', html)\n",
        "    if len(audit_name) == 0:\n",
        "      audit_name = re.findall(r'(?<=утвердить аудитором общества на 202)[10] г\\.?\\s?([а-яё \\\"«-]{1,100}\\»?)', html)\n",
        "      if len(audit_name) == 0:\n",
        "        audit_name = re.findall(r'(?<=утвердить аудитором)[^.:]+?(«[а-яё \\\"\\.«»-]{1,50}»)', html)\n",
        "        if len(audit_name) == 0:\n",
        "          audit_name = re.findall(r'(?<=утвердить аудитором общества)[: ][^.:]+?(«[а-яё \\\"«»-]{1,35}»)', html)\n",
        "          if len(audit_name) == 0:\n",
        "            audit_name = re.findall(r'(?<=утвердить аудитора общества)[: ][^.:]+?([«\\\"][а-яё \\\"«»-]{1,35}[»\\\"])', html)\n",
        "            if len(audit_name) == 0:\n",
        "              audit_name = re.findall(r'(?<=утвердить аудитором)[^.:]+?(\\\"[а-яё \\\"«»\\-]{1,35}\\b\\\")', html)\n",
        "              if len(audit_name) == 0:\n",
        "                audit_name = re.findall(r'(?<=утвердить в качестве аудитора)[^.:]+?(«[а-яё \\\"«»-]{1,35}»)', html)\n",
        "                if len(audit_name) == 0:\n",
        "                  audit_name = re.findall(r'(?<=утвердить)[^.:]+?(\\«[А-Яа-яё \\\"«»\\-]{1,35}\\b\\») аудитором', html)\n",
        "                  if len(audit_name) == 0:\n",
        "                    audit_name = re.findall(r'(?<=утвердить в качестве аудитора)[^:]+?([\\\"«][а-яё \\\"«»-]{1,35}[\\\"»])', html)\n",
        "                    if len(audit_name) == 0:\n",
        "                      audit_name = re.findall(r'(?<=утвердить аудитором общества)[: ][^.:]+?([\\\"«][а-яё0-9 \\\"«»-]{1,35}[\\\"»])', html)\n",
        "                      if len(audit_name) == 0:\n",
        "                        audit_name = re.findall(r'(?<=утвердить)[^.:]+?([\\\"«“][А-Яа-яё \\\"«»\\-]{1,35}\\b[\\\"»”])[^.:]+?в качестве аудитора', html)\n",
        "                        if len(audit_name) == 0:\n",
        "                          audit_name = re.findall(r'(?<=утвердить аудиторскую фирму)[^.:]+?([\\\"«][А-Яа-яё \\\"«»\\-]{1,35}\\b[\\\"»])', html)#\n",
        "                          if len(audit_name) == 0:\n",
        "                            audit_name = re.findall(r'(?<=одобрить утверждение в качестве аудитора)[^.:]+?([\\\"«][А-Яа-яё \\\"«»\\-]{1,35}\\b[\\\"»])', html)#\n",
        "                            if len(audit_name) == 0:\n",
        "                              audit_name = re.findall(r'(?<=утвердить аудитора)[^.:]+?([\\\"«][А-Яа-яё \\\"«»\\-]{1,35}\\b[\\\"»])', html)#\n",
        "                              if len(audit_name) == 0:     \n",
        "                                          audit_names.append('Не указано')\n",
        "                                          continue                                     \n",
        "    audit_names.append(audit_name[0].strip())"
      ],
      "metadata": {
        "id": "2NNOukaMKfRw"
      },
      "execution_count": null,
      "outputs": []
    },
    {
      "cell_type": "markdown",
      "source": [
        "####ИНН аудитора"
      ],
      "metadata": {
        "id": "IyPVa84Hn7Th"
      }
    },
    {
      "cell_type": "code",
      "source": [
        "auditorPattern = re.compile(r'.{300}(?<=утверд).{300}')\n",
        "aud_innPattern = re.compile(r'(?<=инн: )\\d{10}\\b|(?<=инн )\\d{10}\\b|(?<=инн эмитента [-\\–] )\\d{10}\\b')\n",
        "aud_inns = []\n",
        "for html in data:\n",
        "    auditor = re.findall(auditorPattern, html.lower())\n",
        "    if auditor:\n",
        "        inn_a = re.findall(aud_innPattern, auditor[0])\n",
        "        if inn_a:\n",
        "          aud_inns.append(inn_a[0])\n",
        "        else:\n",
        "          aud_inns.append('Не указано')\n",
        "    else:\n",
        "          aud_inns.append('Не указано')"
      ],
      "metadata": {
        "id": "2OP0CPNfpson"
      },
      "execution_count": null,
      "outputs": []
    },
    {
      "cell_type": "markdown",
      "source": [
        "####Утвержденный состав совета директоров"
      ],
      "metadata": {
        "id": "Xo4fWGpCtP19"
      }
    },
    {
      "cell_type": "code",
      "source": [
        "directors = []\n",
        "for html in data:\n",
        "    director_raw = re.findall(r'избрать в состав Совета директоров.+|состав Совета директоров.+|Совет директоров.+', html)\n",
        "    if len(director_raw) == 0:\n",
        "        directors.append('Не указано')\n",
        "    else:\n",
        "        director = re.findall(r'(?<=следующих кандидатов: )(.+?) Результаты голосования', director_raw[0])\n",
        "        if len(director) == 0:\n",
        "            director = re.findall(r'(?<=Избрать в Совет директоров Общества: )(.+?) Вопрос', director_raw[0])\n",
        "            if len(director) == 0:\n",
        "                director = re.findall(r'(?<=набравших наибольшее число голосов )(.+?) Вопрос', director_raw[0])\n",
        "                if len(director) == 0:\n",
        "                    director = re.findall(r'(?<=Совет директоров ПАО «Завод «Ладога»: )(.+?) Дата составления', director_raw[0])\n",
        "                    if len(director) == 0:\n",
        "                        director = re.findall(r'(?<=состав Совета директоров Общества: )(.+?)»\\. По вопросу', director_raw[0])\n",
        "                        if len(director) == 0:\n",
        "                            director = re.findall(r'(?<=в следующем составе: )(.+?)\\. Число голосов, которыми обладали лица, включенные в список лиц, имевших право на участие в общем собрании, для голосования по данному вопросу повестки дня', director_raw[0])\n",
        "                            if len(director) == 0:\n",
        "                                director = re.findall(r'(?<=в следующем составе: )(.+?) По четвертому вопросу повестки дня:', director_raw[0])\n",
        "                                if len(director) == 0:\n",
        "                                    director = re.findall(r'(?<=в следующем составе: )(.+?) По вопросу №2 повестки дня:', director_raw[0])\n",
        "                                    if len(director) == 0:\n",
        "                                        director = re.findall(r'(?<=в следующем составе: )(.+?) Результаты голосования:', director_raw[0])\n",
        "                                        if len(director) == 0:\n",
        "                                            director = re.findall(r'(?<=следующих кандидатов: )(.+?) Вопрос 3\\.', director_raw[0])\n",
        "                                            if len(director) == 0:\n",
        "                                                director = re.findall(r'(?<= человек: )(.+?) 2\\.7\\. ', director_raw[0])\n",
        "                                                if len(director) == 0:\n",
        "                                                    director = re.findall(r'(?<=в составе: )(.+?) Решение принято единогласно\\.', director_raw[0])\n",
        "                                                    if len(director) == 0:\n",
        "                                                        director = re.findall(r'(?<=в следующем составе: )(.+?) ВОПРОС № 3', director_raw[0])\n",
        "                                                        if len(director) == 0:\n",
        "                                                            director = re.findall(r'(?<=в следующем составе: )(.+?) По пятому вопросу повестки дня', director_raw[0])\n",
        "                                                            if len(director) == 0:\n",
        "                                                                director = re.findall(r'(?<=в следующем составе: )(.+?) Голосовали:', director_raw[0])\n",
        "                                                                if len(director) == 0:\n",
        "                                                                    director = re.findall(r'(?<=в следующем составе: )(.+?) 2\\.7\\.', director_raw[0])\n",
        "                                                                    if len(director) == 0:\n",
        "                                                                        director = re.findall(r'(?<=в следующем составе: )(.+?) По вопросу № 3 повестки дня:', director_raw[0])\n",
        "                                                                        if len(director) == 0:\n",
        "                                                                            director = re.findall(r'(?<=в следующем составе: )(.+?) Число голосов, которыми по данному вопросу повестки дня обладали все лица, включенные в список', director_raw[0])\n",
        "                                                                            if len(director) == 0:\n",
        "                                                                                director = re.findall(r'(?<=состав Совета директоров ПАО «Уралкалий»: )(.+?) ВОПРОС ПОВЕСТКИ ДНЯ № 4:', director_raw[0])\n",
        "                                                                                if len(director) == 0:\n",
        "                                                                                    director = re.findall(r'(?<=следующих лиц: )(.+?) 2\\.6\\.5\\.', director_raw[0])\n",
        "                                                                                    if len(director) == 0:\n",
        "                                                                                        director = re.findall(r'(?<=членов Совета директоров: )(.+?) 2\\.6\\.3\\.', director_raw[0])\n",
        "                                                                                        if len(director) == 0:\n",
        "                                                                                            director = re.findall(r'(?<=следующих лиц: )(.+?) Число голосов, которыми обладали лица, включенные в список лиц, имевших право на участие в общем собрании', director_raw[0])\n",
        "                                                                                            if len(director) == 0:\n",
        "                                                                                                director = re.findall(r'(?<=в составе: )(.+?) 2\\.7\\. Дата составления и номер протокола общего собрания участников \\(акционеров\\) эмитента Протокол внеочередного общего собрания акционеров №1', director_raw[0])\n",
        "                                                                                                if len(director) == 0:\n",
        "                                                                                                    director = re.findall(r'(?<=из следующих лиц: )(.+?) 2\\.7\\. Дата составления и номер протокола общего собрания акционеров эмитента:', director_raw[0])\n",
        "                                                                                                    if len(director) == 0:\n",
        "                                                                                                        director = re.findall(r'(?<=в составе: )(.+?) РЕШЕНИЕ ПРИНЯТО', director_raw[0])\n",
        "                                                                                                        if len(director) == 0:\n",
        "                                                                                                            director = re.findall(r'(?<=следующих кандидатов: )(.+?) 2\\.7\\. Дата составления и номер протокола внеочередного общего собрания:', director_raw[0])\n",
        "                                                                                                            if len(director) == 0:\n",
        "                                                                                                                director = re.findall(r'(?<=:)(.+?)Информация не раскрывается', director_raw[0])\n",
        "                                                                                                                if len(director) == 0:\n",
        "                                                                                                                    director = re.findall(r'(?<=в следующем составе: )(.+?) 5\\. Избрать ревизионную комиссию', director_raw[0])\n",
        "                                                                                                                    if len(director) == 0:\n",
        "                                                                                                                        director = re.findall(r'(?<=в количестве \\d{1} человек )(.+?) В соответствии с требованиями', director_raw[0])\n",
        "                                                                                                                        if len(director) == 0:\n",
        "                                                                                                                            director = re.findall(r'(?<=следующих кандидатов: )(.+?) По шестому вопросу повестки дня:', director_raw[0])\n",
        "                                                                                                                            if len(director) == 0:\n",
        "                                                                                                                                director = re.findall(r'(?<=следующих лиц: )(.+?) Фамилия, имя, отчество кандидата', director_raw[0])\n",
        "                                                                                                                                if len(director) == 0:\n",
        "                                                                                                                                    director = re.findall(r'(?<=в следующем составе: )(.+?) В голосовании приняло участие', director_raw[0])\n",
        "                                                                                                                                    if len(director) == 0:\n",
        "                                                                                                                                        director = re.findall(r'(?<=в следующем составе - )(.+?) Вопрос повестки дня № 4:', director_raw[0])\n",
        "                                                                                                                                        if len(director) == 0:\n",
        "                                                                                                                                            director = re.findall(r'(?<=следующих членов: )(.+?) РЕШЕНИЕ ПРИНЯТО', director_raw[0])\n",
        "                                                                                                                                            if len(director) == 0:\n",
        "                                                                                                                                                director = re.findall(r'(?<=Совет директоров либо могут быть сданы в Общество)()', director_raw[0])\n",
        "                                                                                                                                                if len(director) == 0:\n",
        "                                                                                                                                                    director = re.findall(r'(?<=в составе: )(.+?) 2\\.7\\. Дата составления и номер протокола общего собрания участников \\(акционеров\\) эмитента:', director_raw[0])\n",
        "                                                                                                                                                    if len(director) == 0:\n",
        "                                                                                                                                                        director = re.findall(r'(?<=в следующем составе: )(.+?)\"\\. 7\\. По СЕДЬМОМУ ВОПРОСУ:', director_raw[0])\n",
        "                                                                                                                                                        if len(director) == 0:\n",
        "                                                                                                                                                            directors.append('Не указано')\n",
        "                                                                                                                                                            continue\n",
        "                                                        \n",
        "        directors.append(director[0])"
      ],
      "metadata": {
        "id": "L_p8VXUYtSUA"
      },
      "execution_count": null,
      "outputs": []
    },
    {
      "cell_type": "markdown",
      "source": [
        "####Выплата дивидендов"
      ],
      "metadata": {
        "id": "tH699DUkn_J6"
      }
    },
    {
      "cell_type": "code",
      "source": [
        "divPattern = re.compile(r'.{200}(?<=дивиденд).{200}')\n",
        "divs = []\n",
        "for html in data:\n",
        "    div = re.findall(divPattern, html.lower())\n",
        "    if div:\n",
        "        divs.append(div[0])\n",
        "    else:\n",
        "        divs.append(False)\n",
        "answers = []\n",
        "for html in data:\n",
        "    if html.lower().find('дивиденд') > 0:\n",
        "        if html.lower().find('выплатить дивиденды') > 0 or html.lower().find('осуществить выплату дивидендов') > 0 or html.lower().find('выплату дивидендов осуществить') > 0:\n",
        "            answers.append('принято решение выплатить дивиденды')\n",
        "            continue\n",
        "        elif html.lower().find('не выплачивать') > 0:\n",
        "            answers.append('принято решение не выплачивать дивиденды')\n",
        "            continue\n",
        "    answers.append('вопрос не поднимался')"
      ],
      "metadata": {
        "id": "1Si1m_HdoRAB"
      },
      "execution_count": null,
      "outputs": []
    },
    {
      "cell_type": "markdown",
      "metadata": {
        "id": "9Sg28JIp-v-V"
      },
      "source": [
        "####Таблица"
      ]
    },
    {
      "cell_type": "code",
      "execution_count": null,
      "metadata": {
        "id": "gdDerTqW-D6G"
      },
      "outputs": [],
      "source": [
        "import pandas as pd\n",
        "import numpy as np"
      ]
    },
    {
      "cell_type": "code",
      "execution_count": null,
      "metadata": {
        "colab": {
          "base_uri": "https://localhost:8080/",
          "height": 1000
        },
        "id": "3Uj4fs6C9SiO",
        "outputId": "f353c4ae-b1ef-4d85-8c08-5a43596aa990"
      },
      "outputs": [
        {
          "output_type": "execute_result",
          "data": {
            "text/plain": [
              "      ID                                              Текст  \\\n",
              "0      1  [\\n, html, \\n, [\\n, [\\n, <title>Интерфакс – Се...   \n",
              "1      2  [\\n, html, \\n, [\\n, [\\n, <title>Интерфакс – Се...   \n",
              "2      3  [\\n, html, \\n, [\\n, [\\n, <title>Интерфакс – Се...   \n",
              "3      4  [\\n, html, \\n, [\\n, [\\n, <title>Интерфакс – Се...   \n",
              "4      5  [\\n, html, \\n, [\\n, [\\n, <title>Интерфакс – Се...   \n",
              "..   ...                                                ...   \n",
              "298  299  [\\n, html, \\n, [\\n, [\\n, <title>Интерфакс – Се...   \n",
              "299  300  [\\n, html, \\n, [\\n, [\\n, <title>Интерфакс – Се...   \n",
              "300  301  [\\n, html, \\n, [\\n, [\\n, <title>Интерфакс – Се...   \n",
              "301  302  [\\n, html, \\n, [\\n, [\\n, <title>Интерфакс – Се...   \n",
              "302  303  [\\n, html, \\n, [\\n, [\\n, <title>Интерфакс – Се...   \n",
              "\n",
              "                                   Полное наименование  \\\n",
              "0    ОБЩЕСТВО С ОГРАНИЧЕННОЙ ОТВЕТСТВЕННОСТЬЮ \"СИБН...   \n",
              "1            Акционерное общество \"Коминефтегеофизика\"   \n",
              "2    Открытое акционерное общество \"Пензенский заво...   \n",
              "3    Акционерное Общество \"Канская сортоиспытательн...   \n",
              "4    Общество с ограниченной ответственностью «Маги...   \n",
              "..                                                 ...   \n",
              "298                    Акционерное общество \"ОДК-СТАР\"   \n",
              "299       Закрытое акционерное общество \"РАЗНООПТТОРГ\"   \n",
              "300  Акционерное общество «Гусевский стекольный зав...   \n",
              "301           Акционерное общество «Эталон ЛенСпецСМУ»   \n",
              "302  Открытое акционерное общество «Балашихинский л...   \n",
              "\n",
              "         Сокращенное наименование  \\\n",
              "0          ООО \"СИБНЕФТЕХИМТРЕЙД\"   \n",
              "1         АО \"Коминефтегеофизика\"   \n",
              "2         ОАО \"Пензкомпрессормаш\"   \n",
              "3                        АО \"КСС\"   \n",
              "4    ООО «Магистраль двух столиц»   \n",
              "..                            ...   \n",
              "298                 АО \"ОДК-СТАР\"   \n",
              "299            ЗАО \"РАЗНООПТТОРГ\"   \n",
              "300                      АО «СЗД»   \n",
              "301        АО «Эталон ЛенСпецСМУ»   \n",
              "302                    ОАО «БЛМЗ»   \n",
              "\n",
              "                                                 Адрес ИНН эмитента  \\\n",
              "0    625055, Тюменская обл., г. Тюмень, ул. Пражска...   7206033362   \n",
              "1                             Республика Коми, г. Ухта   1102015174   \n",
              "2            440015 Россия, г. Пенза, ул. Аустрина, 63   5835000698   \n",
              "3    Россия, Красноярский край, Канский район, село...   2450021526   \n",
              "4    Российская Федерация, 196158, Санкт-Петербург,...   7703793405   \n",
              "..                                                 ...          ...   \n",
              "298          614990, г. Пермь, ул. Куйбышева, д. 140 а   5904100329   \n",
              "299  127055, Москва г, Сущёвская ул, дом 12, строен...   7707004690   \n",
              "300  Российская Федерация, 601508, Владимирская обл...   3304001065   \n",
              "301              Российская Федерация, Санкт-Петербург   7802084569   \n",
              "302  143900, Московская область, г. Балашиха, Запад...   5001000027   \n",
              "\n",
              "     ОГРН эмитента      Дата собрания          Форма собрания  \\\n",
              "0    1067206072108         13.01.2021                собрание   \n",
              "1    1021100730672         22.01.2021     заочное голосование   \n",
              "2    1025801203537  «30» декабря 2020     заочное голосование   \n",
              "3    1062450011304     16 января 2021                собрание   \n",
              "4    1137746608383     19 января 2021  совместное присутствие   \n",
              "..             ...                ...                     ...   \n",
              "298  1025900895712     22 января 2021                собрание   \n",
              "299  1027700079736     16 апреля 2020                собрание   \n",
              "300  1033300200383       25 июня 2019                собрание   \n",
              "301  1027801544308      19 марта 2021                собрание   \n",
              "302  1025000510534    30 декабря 2020     заочное голосование   \n",
              "\n",
              "                                 Наименование аудитора ИНН аудитора  \\\n",
              "0                                           Не указано   Не указано   \n",
              "1                                           Не указано   Не указано   \n",
              "2                                           Не указано   Не указано   \n",
              "3                                           Не указано   Не указано   \n",
              "4                                           Не указано   Не указано   \n",
              "..                                                 ...          ...   \n",
              "298                                         Не указано   Не указано   \n",
              "299                                «новый консультант»   Не указано   \n",
              "300  «гусевский стекольный завод имени ф.э. дзержин...   Не указано   \n",
              "301                                         Не указано   7814116230   \n",
              "302                         «акф «налоговая стратегия»   Не указано   \n",
              "\n",
              "    Тип отчетности для проверки аудитору  \\\n",
              "0                             Не указано   \n",
              "1                             Не указано   \n",
              "2                             Не указано   \n",
              "3                             Не указано   \n",
              "4                             Не указано   \n",
              "..                                   ...   \n",
              "298                           Не указано   \n",
              "299                           Не указано   \n",
              "300                           Не указано   \n",
              "301                           Не указано   \n",
              "302                           Не указано   \n",
              "\n",
              "                 Утвержденный состав совета директоров  \\\n",
              "0                                           Не указано   \n",
              "1                                           Не указано   \n",
              "2                                           Не указано   \n",
              "3                                           Не указано   \n",
              "4    1. Бигерт Кристиан; 2. Бронвальд Седрик; 3. Ви...   \n",
              "..                                                 ...   \n",
              "298                                         Не указано   \n",
              "299  Звонова Лидия Григорьевна Галкин Валерий Никол...   \n",
              "300  1.Климашин Александр Васильевич 2.Верховых Над...   \n",
              "301                                         Не указано   \n",
              "302  1. Окроян Никогос Симонович 2. Бритвина Елена ...   \n",
              "\n",
              "                           Выплата дивидендов  \n",
              "0                        вопрос не поднимался  \n",
              "1                        вопрос не поднимался  \n",
              "2                        вопрос не поднимался  \n",
              "3                        вопрос не поднимался  \n",
              "4                        вопрос не поднимался  \n",
              "..                                        ...  \n",
              "298                      вопрос не поднимался  \n",
              "299                      вопрос не поднимался  \n",
              "300  принято решение не выплачивать дивиденды  \n",
              "301                      вопрос не поднимался  \n",
              "302  принято решение не выплачивать дивиденды  \n",
              "\n",
              "[303 rows x 14 columns]"
            ],
            "text/html": [
              "\n",
              "  <div id=\"df-0b30e3c6-aa2d-492c-be37-d263f1a7ee73\">\n",
              "    <div class=\"colab-df-container\">\n",
              "      <div>\n",
              "<style scoped>\n",
              "    .dataframe tbody tr th:only-of-type {\n",
              "        vertical-align: middle;\n",
              "    }\n",
              "\n",
              "    .dataframe tbody tr th {\n",
              "        vertical-align: top;\n",
              "    }\n",
              "\n",
              "    .dataframe thead th {\n",
              "        text-align: right;\n",
              "    }\n",
              "</style>\n",
              "<table border=\"1\" class=\"dataframe\">\n",
              "  <thead>\n",
              "    <tr style=\"text-align: right;\">\n",
              "      <th></th>\n",
              "      <th>ID</th>\n",
              "      <th>Текст</th>\n",
              "      <th>Полное наименование</th>\n",
              "      <th>Сокращенное наименование</th>\n",
              "      <th>Адрес</th>\n",
              "      <th>ИНН эмитента</th>\n",
              "      <th>ОГРН эмитента</th>\n",
              "      <th>Дата собрания</th>\n",
              "      <th>Форма собрания</th>\n",
              "      <th>Наименование аудитора</th>\n",
              "      <th>ИНН аудитора</th>\n",
              "      <th>Тип отчетности для проверки аудитору</th>\n",
              "      <th>Утвержденный состав совета директоров</th>\n",
              "      <th>Выплата дивидендов</th>\n",
              "    </tr>\n",
              "  </thead>\n",
              "  <tbody>\n",
              "    <tr>\n",
              "      <th>0</th>\n",
              "      <td>1</td>\n",
              "      <td>[\\n, html, \\n, [\\n, [\\n, &lt;title&gt;Интерфакс – Се...</td>\n",
              "      <td>ОБЩЕСТВО С ОГРАНИЧЕННОЙ ОТВЕТСТВЕННОСТЬЮ \"СИБН...</td>\n",
              "      <td>ООО \"СИБНЕФТЕХИМТРЕЙД\"</td>\n",
              "      <td>625055, Тюменская обл., г. Тюмень, ул. Пражска...</td>\n",
              "      <td>7206033362</td>\n",
              "      <td>1067206072108</td>\n",
              "      <td>13.01.2021</td>\n",
              "      <td>собрание</td>\n",
              "      <td>Не указано</td>\n",
              "      <td>Не указано</td>\n",
              "      <td>Не указано</td>\n",
              "      <td>Не указано</td>\n",
              "      <td>вопрос не поднимался</td>\n",
              "    </tr>\n",
              "    <tr>\n",
              "      <th>1</th>\n",
              "      <td>2</td>\n",
              "      <td>[\\n, html, \\n, [\\n, [\\n, &lt;title&gt;Интерфакс – Се...</td>\n",
              "      <td>Акционерное общество \"Коминефтегеофизика\"</td>\n",
              "      <td>АО \"Коминефтегеофизика\"</td>\n",
              "      <td>Республика Коми, г. Ухта</td>\n",
              "      <td>1102015174</td>\n",
              "      <td>1021100730672</td>\n",
              "      <td>22.01.2021</td>\n",
              "      <td>заочное голосование</td>\n",
              "      <td>Не указано</td>\n",
              "      <td>Не указано</td>\n",
              "      <td>Не указано</td>\n",
              "      <td>Не указано</td>\n",
              "      <td>вопрос не поднимался</td>\n",
              "    </tr>\n",
              "    <tr>\n",
              "      <th>2</th>\n",
              "      <td>3</td>\n",
              "      <td>[\\n, html, \\n, [\\n, [\\n, &lt;title&gt;Интерфакс – Се...</td>\n",
              "      <td>Открытое акционерное общество \"Пензенский заво...</td>\n",
              "      <td>ОАО \"Пензкомпрессормаш\"</td>\n",
              "      <td>440015 Россия, г. Пенза, ул. Аустрина, 63</td>\n",
              "      <td>5835000698</td>\n",
              "      <td>1025801203537</td>\n",
              "      <td>«30» декабря 2020</td>\n",
              "      <td>заочное голосование</td>\n",
              "      <td>Не указано</td>\n",
              "      <td>Не указано</td>\n",
              "      <td>Не указано</td>\n",
              "      <td>Не указано</td>\n",
              "      <td>вопрос не поднимался</td>\n",
              "    </tr>\n",
              "    <tr>\n",
              "      <th>3</th>\n",
              "      <td>4</td>\n",
              "      <td>[\\n, html, \\n, [\\n, [\\n, &lt;title&gt;Интерфакс – Се...</td>\n",
              "      <td>Акционерное Общество \"Канская сортоиспытательн...</td>\n",
              "      <td>АО \"КСС\"</td>\n",
              "      <td>Россия, Красноярский край, Канский район, село...</td>\n",
              "      <td>2450021526</td>\n",
              "      <td>1062450011304</td>\n",
              "      <td>16 января 2021</td>\n",
              "      <td>собрание</td>\n",
              "      <td>Не указано</td>\n",
              "      <td>Не указано</td>\n",
              "      <td>Не указано</td>\n",
              "      <td>Не указано</td>\n",
              "      <td>вопрос не поднимался</td>\n",
              "    </tr>\n",
              "    <tr>\n",
              "      <th>4</th>\n",
              "      <td>5</td>\n",
              "      <td>[\\n, html, \\n, [\\n, [\\n, &lt;title&gt;Интерфакс – Се...</td>\n",
              "      <td>Общество с ограниченной ответственностью «Маги...</td>\n",
              "      <td>ООО «Магистраль двух столиц»</td>\n",
              "      <td>Российская Федерация, 196158, Санкт-Петербург,...</td>\n",
              "      <td>7703793405</td>\n",
              "      <td>1137746608383</td>\n",
              "      <td>19 января 2021</td>\n",
              "      <td>совместное присутствие</td>\n",
              "      <td>Не указано</td>\n",
              "      <td>Не указано</td>\n",
              "      <td>Не указано</td>\n",
              "      <td>1. Бигерт Кристиан; 2. Бронвальд Седрик; 3. Ви...</td>\n",
              "      <td>вопрос не поднимался</td>\n",
              "    </tr>\n",
              "    <tr>\n",
              "      <th>...</th>\n",
              "      <td>...</td>\n",
              "      <td>...</td>\n",
              "      <td>...</td>\n",
              "      <td>...</td>\n",
              "      <td>...</td>\n",
              "      <td>...</td>\n",
              "      <td>...</td>\n",
              "      <td>...</td>\n",
              "      <td>...</td>\n",
              "      <td>...</td>\n",
              "      <td>...</td>\n",
              "      <td>...</td>\n",
              "      <td>...</td>\n",
              "      <td>...</td>\n",
              "    </tr>\n",
              "    <tr>\n",
              "      <th>298</th>\n",
              "      <td>299</td>\n",
              "      <td>[\\n, html, \\n, [\\n, [\\n, &lt;title&gt;Интерфакс – Се...</td>\n",
              "      <td>Акционерное общество \"ОДК-СТАР\"</td>\n",
              "      <td>АО \"ОДК-СТАР\"</td>\n",
              "      <td>614990, г. Пермь, ул. Куйбышева, д. 140 а</td>\n",
              "      <td>5904100329</td>\n",
              "      <td>1025900895712</td>\n",
              "      <td>22 января 2021</td>\n",
              "      <td>собрание</td>\n",
              "      <td>Не указано</td>\n",
              "      <td>Не указано</td>\n",
              "      <td>Не указано</td>\n",
              "      <td>Не указано</td>\n",
              "      <td>вопрос не поднимался</td>\n",
              "    </tr>\n",
              "    <tr>\n",
              "      <th>299</th>\n",
              "      <td>300</td>\n",
              "      <td>[\\n, html, \\n, [\\n, [\\n, &lt;title&gt;Интерфакс – Се...</td>\n",
              "      <td>Закрытое акционерное общество \"РАЗНООПТТОРГ\"</td>\n",
              "      <td>ЗАО \"РАЗНООПТТОРГ\"</td>\n",
              "      <td>127055, Москва г, Сущёвская ул, дом 12, строен...</td>\n",
              "      <td>7707004690</td>\n",
              "      <td>1027700079736</td>\n",
              "      <td>16 апреля 2020</td>\n",
              "      <td>собрание</td>\n",
              "      <td>«новый консультант»</td>\n",
              "      <td>Не указано</td>\n",
              "      <td>Не указано</td>\n",
              "      <td>Звонова Лидия Григорьевна Галкин Валерий Никол...</td>\n",
              "      <td>вопрос не поднимался</td>\n",
              "    </tr>\n",
              "    <tr>\n",
              "      <th>300</th>\n",
              "      <td>301</td>\n",
              "      <td>[\\n, html, \\n, [\\n, [\\n, &lt;title&gt;Интерфакс – Се...</td>\n",
              "      <td>Акционерное общество «Гусевский стекольный зав...</td>\n",
              "      <td>АО «СЗД»</td>\n",
              "      <td>Российская Федерация, 601508, Владимирская обл...</td>\n",
              "      <td>3304001065</td>\n",
              "      <td>1033300200383</td>\n",
              "      <td>25 июня 2019</td>\n",
              "      <td>собрание</td>\n",
              "      <td>«гусевский стекольный завод имени ф.э. дзержин...</td>\n",
              "      <td>Не указано</td>\n",
              "      <td>Не указано</td>\n",
              "      <td>1.Климашин Александр Васильевич 2.Верховых Над...</td>\n",
              "      <td>принято решение не выплачивать дивиденды</td>\n",
              "    </tr>\n",
              "    <tr>\n",
              "      <th>301</th>\n",
              "      <td>302</td>\n",
              "      <td>[\\n, html, \\n, [\\n, [\\n, &lt;title&gt;Интерфакс – Се...</td>\n",
              "      <td>Акционерное общество «Эталон ЛенСпецСМУ»</td>\n",
              "      <td>АО «Эталон ЛенСпецСМУ»</td>\n",
              "      <td>Российская Федерация, Санкт-Петербург</td>\n",
              "      <td>7802084569</td>\n",
              "      <td>1027801544308</td>\n",
              "      <td>19 марта 2021</td>\n",
              "      <td>собрание</td>\n",
              "      <td>Не указано</td>\n",
              "      <td>7814116230</td>\n",
              "      <td>Не указано</td>\n",
              "      <td>Не указано</td>\n",
              "      <td>вопрос не поднимался</td>\n",
              "    </tr>\n",
              "    <tr>\n",
              "      <th>302</th>\n",
              "      <td>303</td>\n",
              "      <td>[\\n, html, \\n, [\\n, [\\n, &lt;title&gt;Интерфакс – Се...</td>\n",
              "      <td>Открытое акционерное общество «Балашихинский л...</td>\n",
              "      <td>ОАО «БЛМЗ»</td>\n",
              "      <td>143900, Московская область, г. Балашиха, Запад...</td>\n",
              "      <td>5001000027</td>\n",
              "      <td>1025000510534</td>\n",
              "      <td>30 декабря 2020</td>\n",
              "      <td>заочное голосование</td>\n",
              "      <td>«акф «налоговая стратегия»</td>\n",
              "      <td>Не указано</td>\n",
              "      <td>Не указано</td>\n",
              "      <td>1. Окроян Никогос Симонович 2. Бритвина Елена ...</td>\n",
              "      <td>принято решение не выплачивать дивиденды</td>\n",
              "    </tr>\n",
              "  </tbody>\n",
              "</table>\n",
              "<p>303 rows × 14 columns</p>\n",
              "</div>\n",
              "      <button class=\"colab-df-convert\" onclick=\"convertToInteractive('df-0b30e3c6-aa2d-492c-be37-d263f1a7ee73')\"\n",
              "              title=\"Convert this dataframe to an interactive table.\"\n",
              "              style=\"display:none;\">\n",
              "        \n",
              "  <svg xmlns=\"http://www.w3.org/2000/svg\" height=\"24px\"viewBox=\"0 0 24 24\"\n",
              "       width=\"24px\">\n",
              "    <path d=\"M0 0h24v24H0V0z\" fill=\"none\"/>\n",
              "    <path d=\"M18.56 5.44l.94 2.06.94-2.06 2.06-.94-2.06-.94-.94-2.06-.94 2.06-2.06.94zm-11 1L8.5 8.5l.94-2.06 2.06-.94-2.06-.94L8.5 2.5l-.94 2.06-2.06.94zm10 10l.94 2.06.94-2.06 2.06-.94-2.06-.94-.94-2.06-.94 2.06-2.06.94z\"/><path d=\"M17.41 7.96l-1.37-1.37c-.4-.4-.92-.59-1.43-.59-.52 0-1.04.2-1.43.59L10.3 9.45l-7.72 7.72c-.78.78-.78 2.05 0 2.83L4 21.41c.39.39.9.59 1.41.59.51 0 1.02-.2 1.41-.59l7.78-7.78 2.81-2.81c.8-.78.8-2.07 0-2.86zM5.41 20L4 18.59l7.72-7.72 1.47 1.35L5.41 20z\"/>\n",
              "  </svg>\n",
              "      </button>\n",
              "      \n",
              "  <style>\n",
              "    .colab-df-container {\n",
              "      display:flex;\n",
              "      flex-wrap:wrap;\n",
              "      gap: 12px;\n",
              "    }\n",
              "\n",
              "    .colab-df-convert {\n",
              "      background-color: #E8F0FE;\n",
              "      border: none;\n",
              "      border-radius: 50%;\n",
              "      cursor: pointer;\n",
              "      display: none;\n",
              "      fill: #1967D2;\n",
              "      height: 32px;\n",
              "      padding: 0 0 0 0;\n",
              "      width: 32px;\n",
              "    }\n",
              "\n",
              "    .colab-df-convert:hover {\n",
              "      background-color: #E2EBFA;\n",
              "      box-shadow: 0px 1px 2px rgba(60, 64, 67, 0.3), 0px 1px 3px 1px rgba(60, 64, 67, 0.15);\n",
              "      fill: #174EA6;\n",
              "    }\n",
              "\n",
              "    [theme=dark] .colab-df-convert {\n",
              "      background-color: #3B4455;\n",
              "      fill: #D2E3FC;\n",
              "    }\n",
              "\n",
              "    [theme=dark] .colab-df-convert:hover {\n",
              "      background-color: #434B5C;\n",
              "      box-shadow: 0px 1px 3px 1px rgba(0, 0, 0, 0.15);\n",
              "      filter: drop-shadow(0px 1px 2px rgba(0, 0, 0, 0.3));\n",
              "      fill: #FFFFFF;\n",
              "    }\n",
              "  </style>\n",
              "\n",
              "      <script>\n",
              "        const buttonEl =\n",
              "          document.querySelector('#df-0b30e3c6-aa2d-492c-be37-d263f1a7ee73 button.colab-df-convert');\n",
              "        buttonEl.style.display =\n",
              "          google.colab.kernel.accessAllowed ? 'block' : 'none';\n",
              "\n",
              "        async function convertToInteractive(key) {\n",
              "          const element = document.querySelector('#df-0b30e3c6-aa2d-492c-be37-d263f1a7ee73');\n",
              "          const dataTable =\n",
              "            await google.colab.kernel.invokeFunction('convertToInteractive',\n",
              "                                                     [key], {});\n",
              "          if (!dataTable) return;\n",
              "\n",
              "          const docLinkHtml = 'Like what you see? Visit the ' +\n",
              "            '<a target=\"_blank\" href=https://colab.research.google.com/notebooks/data_table.ipynb>data table notebook</a>'\n",
              "            + ' to learn more about interactive tables.';\n",
              "          element.innerHTML = '';\n",
              "          dataTable['output_type'] = 'display_data';\n",
              "          await google.colab.output.renderOutput(dataTable, element);\n",
              "          const docLink = document.createElement('div');\n",
              "          docLink.innerHTML = docLinkHtml;\n",
              "          element.appendChild(docLink);\n",
              "        }\n",
              "      </script>\n",
              "    </div>\n",
              "  </div>\n",
              "  "
            ]
          },
          "metadata": {},
          "execution_count": 254
        }
      ],
      "source": [
        "table = pd.DataFrame({'ID': range(1, 304), 'Текст':files, 'Полное наименование': full_names,'Сокращенное наименование': names, 'Адрес': addresses,'ИНН эмитента': inns, 'ОГРН эмитента': ogrns, 'Дата собрания': dates, 'Форма собрания': forms, 'Наименование аудитора':audit_names, 'ИНН аудитора':aud_inns, 'Тип отчетности для проверки аудитору':doc_types, 'Утвержденный состав совета директоров': directors,'Выплата дивидендов': answers})\n",
        "table"
      ]
    },
    {
      "cell_type": "code",
      "source": [
        "table.to_excel(\"project_advb.xlsx\")"
      ],
      "metadata": {
        "id": "RQfIeN4RtKWV"
      },
      "execution_count": null,
      "outputs": []
    },
    {
      "cell_type": "code",
      "source": [
        "table.to_csv(\"project_advb.csv\")"
      ],
      "metadata": {
        "id": "ogb_P97kxqG8"
      },
      "execution_count": null,
      "outputs": []
    }
  ],
  "metadata": {
    "colab": {
      "name": "АДВБ_Митченко_Неминская_Уали.ipynb",
      "provenance": []
    },
    "kernelspec": {
      "display_name": "Python 3",
      "language": "python",
      "name": "python3"
    },
    "language_info": {
      "codemirror_mode": {
        "name": "ipython",
        "version": 3
      },
      "file_extension": ".py",
      "mimetype": "text/x-python",
      "name": "python",
      "nbconvert_exporter": "python",
      "pygments_lexer": "ipython3",
      "version": "3.7.4"
    }
  },
  "nbformat": 4,
  "nbformat_minor": 0
}